{
 "cells": [
  {
   "cell_type": "markdown",
   "id": "ae5dde2b-824f-41d4-b1bf-8340c76875b2",
   "metadata": {},
   "source": [
    "# My Jupyter Notebook on IBM Watson Studio"
   ]
  },
  {
   "cell_type": "markdown",
   "id": "01f04990-d4a7-4ab4-a6c1-01862c379a2a",
   "metadata": {
    "tags": []
   },
   "source": [
    "**zhoumingze**  \n",
    "student"
   ]
  },
  {
   "cell_type": "markdown",
   "id": "154b1abe-ddb5-4098-8870-03d837fdf8e1",
   "metadata": {},
   "source": [
    "*I am interested in data science because I think it is interesting.*"
   ]
  },
  {
   "cell_type": "markdown",
   "id": "7d15501e-1af3-4432-8b32-acb0b1969633",
   "metadata": {},
   "source": [
    "### do some basic calculation like a+b*c"
   ]
  },
  {
   "cell_type": "code",
   "execution_count": 7,
   "id": "61a2f685-2a96-42af-bfc5-e7bf43251180",
   "metadata": {},
   "outputs": [
    {
     "name": "stdout",
     "output_type": "stream",
     "text": [
      "272\n"
     ]
    }
   ],
   "source": [
    "a=2\n",
    "b=3\n",
    "c=90\n",
    "print(a+b*c)"
   ]
  },
  {
   "cell_type": "markdown",
   "id": "d8a47f92-6e5b-4e0f-9a22-718d54bb0c9d",
   "metadata": {},
   "source": [
    "---\n",
    "<li>list 1</li>\n",
    "<li>list 2</li>\n",
    "<li>list 3</li>\n",
    "<li>list 4</li>\n",
    "<li>list 5</li>\n",
    "\n",
    "---\n",
    "\n",
    "<table border=\"1\">\n",
    "<tr>\n",
    "<td>row 1, cell 1</td>\n",
    "<td>row 1, cell 2</td>\n",
    "</tr>\n",
    "<tr>\n",
    "<td>row 2, cell 1</td>\n",
    "<td>row 2, cell 2</td>\n",
    "</tr>\n",
    "</table>\n",
    "\n",
    "---\n",
    "\n",
    "<h1><a href=\"https://github.com/\">GitHub</a></h1>\n",
    "       "
   ]
  },
  {
   "cell_type": "code",
   "execution_count": null,
   "id": "fa0c39d7-da85-4b4b-89a6-08930b2130b1",
   "metadata": {},
   "outputs": [],
   "source": []
  }
 ],
 "metadata": {
  "kernelspec": {
   "display_name": "Python 3 (ipykernel)",
   "language": "python",
   "name": "python3"
  },
  "language_info": {
   "codemirror_mode": {
    "name": "ipython",
    "version": 3
   },
   "file_extension": ".py",
   "mimetype": "text/x-python",
   "name": "python",
   "nbconvert_exporter": "python",
   "pygments_lexer": "ipython3",
   "version": "3.9.7"
  }
 },
 "nbformat": 4,
 "nbformat_minor": 5
}
